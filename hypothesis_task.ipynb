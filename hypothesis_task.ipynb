{
 "cells": [
  {
   "cell_type": "markdown",
   "id": "23bcbee4-d695-4579-8418-3d8979251606",
   "metadata": {},
   "source": [
    "# Test_1"
   ]
  },
  {
   "cell_type": "raw",
   "id": "d192919e-e921-4bbf-88e1-6ca7dc665e19",
   "metadata": {},
   "source": [
    "1.Suppose a child psychologist says that the average time that working mothers spend talking to their children is at-least 11 minutes per day.\n",
    "You want to test\n",
    "You conduct a random sample of 1000 working mothers and find they spend an average of 11.5 minutes per day talking with their children. Assume prior research suggests the population standard deviation is 2.3 minutes.\n",
    "Conduct test with a level of significance of alpha=0.05"
   ]
  },
  {
   "cell_type": "markdown",
   "id": "3c8bbbae-df12-4344-a73b-508e60340fd7",
   "metadata": {},
   "source": [
    "# Test_2"
   ]
  },
  {
   "cell_type": "raw",
   "id": "eb79bbc5-6b0c-461a-9c7b-46535bada8de",
   "metadata": {},
   "source": [
    "2.A coffee shop claims that their average wait time for customers is less than 5 minutes.\n",
    "To test this claim, a sample of 40 customers is taken, and their wait times are recorded. The sample mean wait time is found to be 4.6 minutes with a standard deviation of 0.8 minutes. Perform a hypothesis test at a significance level of 0.05 and determine whether there is enough evidence to support the coffee shop's claim.\n",
    "Perform the hypothesis testing using correct test statistics and appropriate critical value"
   ]
  },
  {
   "cell_type": "code",
   "execution_count": 1,
   "id": "bd661929-8630-4e18-a2a2-98f861d41698",
   "metadata": {},
   "outputs": [],
   "source": [
    "import numpy as np\n",
    "from scipy import stats\n"
   ]
  },
  {
   "cell_type": "markdown",
   "id": "d462dad9-ece6-43aa-8d0f-117387a05c0a",
   "metadata": {},
   "source": [
    "## Task-1"
   ]
  },
  {
   "cell_type": "raw",
   "id": "a8c5146e-5414-48aa-9119-43fed1710fbb",
   "metadata": {},
   "source": [
    "1. Testing the average time working mothers spend talking to their children:\n",
    "\n",
    "Null Hypothesis (H0): μ ≥ 11 minutes (the average time is at least 11 minutes).\n",
    "Alternative Hypothesis (H1): μ < 11 minutes (the average time is less than 11 minutes).\n",
    "\n",
    "Given data:\n",
    "\n",
    "Sample size (n) = 1000\n",
    "Sample mean (x̄) = 11.5 minutes\n",
    "Population standard deviation (σ) = 2.3 minutes\n",
    "Level of significance (α) = 0.05\n",
    "We will use a one-sample z-test."
   ]
  },
  {
   "cell_type": "code",
   "execution_count": 2,
   "id": "bea90414-8b38-46a5-b49d-7e7a86e76bfc",
   "metadata": {},
   "outputs": [],
   "source": [
    "\n",
    "# Given data\n",
    "n = 1000\n",
    "sample_mean = 11.5\n",
    "population_stddev = 2.3\n",
    "alpha = 0.05\n",
    "population_mean = 11  # Null hypothesis mean\n"
   ]
  },
  {
   "cell_type": "code",
   "execution_count": 3,
   "id": "dcb7bdb5-9cb8-4f64-9df2-62518bd28b9d",
   "metadata": {},
   "outputs": [],
   "source": [
    "# Calculate the test statistic (z)\n",
    "z = (sample_mean - population_mean) / (population_stddev / np.sqrt(n))\n"
   ]
  },
  {
   "cell_type": "code",
   "execution_count": 4,
   "id": "a6712427-3109-457d-ae9d-7218ad0df73f",
   "metadata": {},
   "outputs": [],
   "source": [
    "# Calculate the p-value\n",
    "p_value = stats.norm.cdf(z)\n"
   ]
  },
  {
   "cell_type": "code",
   "execution_count": 5,
   "id": "4fa2ff3b-296a-4290-9960-9ac235c024ce",
   "metadata": {},
   "outputs": [
    {
     "name": "stdout",
     "output_type": "stream",
     "text": [
      "Fail to reject the null hypothesis. There is not enough evidence to conclude that the average time is less than 11 minutes.\n"
     ]
    }
   ],
   "source": [
    "# Compare p-value to the significance level\n",
    "if p_value < alpha:\n",
    "    print(\"Reject the null hypothesis. There is enough evidence to conclude that the average time is less than 11 minutes.\")\n",
    "else:\n",
    "    print(\"Fail to reject the null hypothesis. There is not enough evidence to conclude that the average time is less than 11 minutes.\")"
   ]
  },
  {
   "cell_type": "markdown",
   "id": "45acad67-5de0-415e-a41d-ea5c5dce93b4",
   "metadata": {},
   "source": [
    "# Method calculate"
   ]
  },
  {
   "cell_type": "raw",
   "id": "7e51006e-5701-4896-9036-9e803bd4c675",
   "metadata": {},
   "source": [
    "\n",
    "Hypothesis Test for the Average Time Working Mothers Spend Talking to Their Children:\n",
    "Null Hypothesis (H0): μ ≥ 11 minutes (The average time mothers spend talking to their children is at least 11 minutes per day).\n",
    "Alternative Hypothesis (Ha): μ < 11 minutes (The average time mothers spend talking to their children is less than 11 minutes per day).\n",
    "\n",
    "Given:\n",
    "Sample Mean (x̄) = 11.5 minutes\n",
    "Population Standard Deviation (σ) = 2.3 minutes\n",
    "Sample Size (n) = 1000\n",
    "Level of Significance (α) = 0.05 (critical value = -1.645 for a left-tailed test)\n",
    "\n",
    "Calculation:\n",
    "Standard Error (SE) = σ / √n = 2.3 / √1000 ≈ 0.0726\n",
    "\n",
    "Test Statistic (z) = (x̄ - μ) / SE = (11.5 - 11) / 0.0726 ≈ 6.87\n",
    "\n",
    "Now, compare the test statistic to the critical value:\n",
    "z < -1.645\n",
    "\n",
    "Since the test statistic (6.87) is greater than the critical value (-1.645) and falls in the rejection region, we reject the null hypothesis.\n",
    "\n",
    "Conclusion:\n",
    "There is enough evidence to conclude that, at a significance level of 0.05, the average time working mothers spend talking to their children is less than 11 minutes per day."
   ]
  },
  {
   "cell_type": "markdown",
   "id": "d36e0331-2250-4892-95c2-21909b7ee8e6",
   "metadata": {},
   "source": [
    "# Task-2"
   ]
  },
  {
   "cell_type": "raw",
   "id": "5e8c8c8f-602f-4c36-ac50-2e7801680eb8",
   "metadata": {},
   "source": [
    "2. Testing the coffee shop's claim about wait times:\n",
    "\n",
    "Null Hypothesis (H0): μ ≥ 5 minutes (the average wait time is at least 5 minutes).\n",
    "Alternative Hypothesis (H1): μ < 5 minutes (the average wait time is less than 5 minutes).\n",
    "\n",
    "Given data:\n",
    "\n",
    "Sample size (n) = 40\n",
    "Sample mean (x̄) = 4.6 minutes\n",
    "Sample standard deviation (s) = 0.8 minutes\n",
    "Level of significance (α) = 0.05\n",
    "We will use a one-sample t-test."
   ]
  },
  {
   "cell_type": "code",
   "execution_count": 7,
   "id": "a2564e57-e245-4876-8046-7913cadd7be0",
   "metadata": {},
   "outputs": [],
   "source": [
    "# Given data\n",
    "n = 40\n",
    "sample_mean = 4.6\n",
    "sample_stddev = 0.8\n",
    "alpha = 0.05\n",
    "population_mean = 5  # Null hypothesis mean\n"
   ]
  },
  {
   "cell_type": "code",
   "execution_count": 8,
   "id": "0a14de19-ed05-4a8a-9ebd-c0e4f0ac0d31",
   "metadata": {},
   "outputs": [],
   "source": [
    "# Calculate the test statistic (t)\n",
    "t = (sample_mean - population_mean) / (sample_stddev / np.sqrt(n))\n"
   ]
  },
  {
   "cell_type": "code",
   "execution_count": 9,
   "id": "656cbb64-0b8c-45ca-aedb-925656759cfc",
   "metadata": {},
   "outputs": [],
   "source": [
    "# Degrees of freedom\n",
    "df = n - 1"
   ]
  },
  {
   "cell_type": "code",
   "execution_count": 10,
   "id": "e7645ce8-6a5d-40b9-91c4-b1948b651381",
   "metadata": {},
   "outputs": [],
   "source": [
    "# Calculate the p-value\n",
    "p_value = stats.t.cdf(t, df)"
   ]
  },
  {
   "cell_type": "code",
   "execution_count": 11,
   "id": "199d71a2-2601-4263-8f8a-7b072c7e2dcd",
   "metadata": {},
   "outputs": [
    {
     "name": "stdout",
     "output_type": "stream",
     "text": [
      "Reject the null hypothesis. There is enough evidence to conclude that the average wait time is less than 5 minutes.\n"
     ]
    }
   ],
   "source": [
    "# Compare p-value to the significance level\n",
    "if p_value < alpha:\n",
    "    print(\"Reject the null hypothesis. There is enough evidence to conclude that the average wait time is less than 5 minutes.\")\n",
    "else:\n",
    "    print(\"Fail to reject the null hypothesis. There is not enough evidence to conclude that the average wait time is less than 5 minutes.\")"
   ]
  },
  {
   "cell_type": "markdown",
   "id": "971d1b86-8078-4028-80b3-96703372fec7",
   "metadata": {},
   "source": [
    "# Method calculate"
   ]
  },
  {
   "cell_type": "raw",
   "id": "71f7b912-5bf1-4844-998f-3569adae49db",
   "metadata": {},
   "source": [
    "Hypothesis Test for Coffee Shop's Claim:\n",
    "Null Hypothesis (H0): μ ≥ 5 minutes (The average wait time for customers is 5 minutes or more).\n",
    "Alternative Hypothesis (Ha): μ < 5 minutes (The average wait time for customers is less than 5 minutes).\n",
    "\n",
    "Given:\n",
    "Sample Mean (x̄) = 4.6 minutes\n",
    "Sample Standard Deviation (s) = 0.8 minutes\n",
    "Sample Size (n) = 40\n",
    "Level of Significance (α) = 0.05 (critical value = -1.645 for a left-tailed test)\n",
    "\n",
    "Calculation:\n",
    "Standard Error (SE) = s / √n = 0.8 / √40 ≈ 0.1265\n",
    "\n",
    "Test Statistic (z) = (x̄ - μ) / SE = (4.6 - 5) / 0.1265 ≈ -3.969\n",
    "\n",
    "Now, compare the test statistic to the critical value:\n",
    "z < -1.645\n",
    "\n",
    "Since the test statistic (-3.969) is less than the critical value (-1.645) and falls in the rejection region, we reject the null hypothesis.\n",
    "\n",
    "Conclusion:\n",
    "There is enough evidence to conclude that, at a significance level of 0.05, the average wait time for customers at the coffee shop is less than 5 minutes, supporting the coffee shop's claim."
   ]
  },
  {
   "cell_type": "code",
   "execution_count": null,
   "id": "204f559e-5ec6-421d-8658-37dd9dbb3c50",
   "metadata": {},
   "outputs": [],
   "source": []
  }
 ],
 "metadata": {
  "kernelspec": {
   "display_name": "Python 3 (ipykernel)",
   "language": "python",
   "name": "python3"
  },
  "language_info": {
   "codemirror_mode": {
    "name": "ipython",
    "version": 3
   },
   "file_extension": ".py",
   "mimetype": "text/x-python",
   "name": "python",
   "nbconvert_exporter": "python",
   "pygments_lexer": "ipython3",
   "version": "3.11.4"
  }
 },
 "nbformat": 4,
 "nbformat_minor": 5
}
